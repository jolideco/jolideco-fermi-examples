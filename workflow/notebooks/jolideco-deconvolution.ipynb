{
 "cells": [
  {
   "cell_type": "markdown",
   "id": "e8bacaaf",
   "metadata": {},
   "source": [
    "# Jolideco Analysis of Fermi-LAT data of Vela Junior "
   ]
  },
  {
   "cell_type": "code",
   "execution_count": null,
   "id": "0f81b802",
   "metadata": {},
   "outputs": [],
   "source": [
    "import numpy as np\n",
    "from pathlib import Path\n",
    "from matplotlib import pyplot as plt\n",
    "import matplotlib as mpl\n",
    "from astropy.visualization import simple_norm\n",
    "from astropy import units as u\n",
    "from jolideco.core import MAPDeconvolver\n",
    "from jolideco.models import (\n",
    "    SpatialFluxComponent,\n",
    "    FluxComponents,\n",
    "    NPredModels,\n",
    "    NPredCalibration,\n",
    "    NPredCalibrations\n",
    ")\n",
    "from jolideco.priors import GMMPatchPrior, GaussianMixtureModel\n",
    "from jolideco.utils.norms import IdentityImageNorm\n",
    "from itertools import zip_longest\n",
    "from regions import CircleSkyRegion\n",
    "from gammapy.maps import Maps, WcsGeom, Map"
   ]
  },
  {
   "cell_type": "code",
   "execution_count": null,
   "id": "ffce8234",
   "metadata": {},
   "outputs": [],
   "source": [
    "# for vscode dark theme\n",
    "# plt.style.use('dark_background')\n",
    "# mpl.rcParams['figure.facecolor'] = '#25292E'\n"
   ]
  },
  {
   "cell_type": "code",
   "execution_count": null,
   "id": "5b53a56c",
   "metadata": {},
   "outputs": [],
   "source": [
    "if \"snakemake\" in globals():\n",
    "    filenames = list(snakemake.input)\n",
    "    filename_jolideco_result = snakemake.output.filename_jolideco_result\n",
    "    filenames_npred = list(snakemake.output.filenames_npred)\n",
    "else:\n",
    "    PATH_BASE = Path(\"../../results/vela-junior-above-10GeV-data/jolideco/\")\n",
    "    filenames = (PATH_BASE / \"input\").glob(\"*.fits\")\n",
    "    filename_jolideco_result = PATH_BASE / \"vela-junior-above-10GeV-data-result-jolideco.fits\"\n",
    "    filenames_npred = "
   ]
  },
  {
   "cell_type": "code",
   "execution_count": null,
   "id": "458b46fa",
   "metadata": {},
   "outputs": [],
   "source": [
    "datasets = {}\n",
    "\n",
    "for filename in filenames:\n",
    "    maps = Maps.read(filename)\n",
    "    datasets[filename.stem.replace(\"-maps\", \"\")] = maps\n"
   ]
  },
  {
   "cell_type": "markdown",
   "id": "dde39bf5",
   "metadata": {},
   "source": [
    "## Counts"
   ]
  },
  {
   "cell_type": "code",
   "execution_count": null,
   "id": "8664dd15",
   "metadata": {},
   "outputs": [],
   "source": [
    "wcs = datasets[\"vela-junior-above-10GeV-data-psf0\"][\"counts\"].geom.wcs\n",
    "\n",
    "fig, axes = plt.subplots(\n",
    "    ncols=2,\n",
    "    nrows=2,\n",
    "    subplot_kw={\"projection\": wcs},\n",
    "    figsize=(12, 12)\n",
    ")\n",
    "\n",
    "for ax, (name, maps) in zip(axes.flat, datasets.items()):\n",
    "    counts = maps[\"counts\"].sum_over_axes()\n",
    "    counts.plot(ax=ax, cmap=\"viridis\", add_cbar=True)\n",
    "    ax.set_title(f\"{name}\")"
   ]
  },
  {
   "cell_type": "markdown",
   "id": "26f46afb",
   "metadata": {},
   "source": [
    "## Background"
   ]
  },
  {
   "cell_type": "code",
   "execution_count": null,
   "id": "0c9d3975",
   "metadata": {},
   "outputs": [],
   "source": [
    "fig, axes = plt.subplots(\n",
    "    ncols=2,\n",
    "    nrows=2,\n",
    "    subplot_kw={\"projection\": wcs},\n",
    "    figsize=(12, 12)\n",
    ")\n",
    "\n",
    "for ax, (name, maps) in zip(axes.flat, datasets.items()):\n",
    "    background = maps[\"background\"].sum_over_axes()\n",
    "    background.plot(ax=ax, cmap=\"viridis\", add_cbar=True, stretch=\"log\")\n",
    "    ax.set_title(f\"{name}\")"
   ]
  },
  {
   "cell_type": "markdown",
   "id": "3db3b196",
   "metadata": {},
   "source": [
    "## PSF"
   ]
  },
  {
   "cell_type": "code",
   "execution_count": null,
   "id": "0bd29f06",
   "metadata": {},
   "outputs": [],
   "source": [
    "wcs = datasets[\"vela-junior-above-10GeV-data-psf0\"][\"psf\"].geom.wcs\n",
    "\n",
    "fig, axes = plt.subplots(\n",
    "    ncols=2,\n",
    "    nrows=2,\n",
    "    subplot_kw={\"projection\": wcs},\n",
    "    figsize=(12, 12)\n",
    ")\n",
    "\n",
    "for ax, (name, maps) in zip(axes.flat, datasets.items()):\n",
    "    psf = maps[\"psf\"].sum_over_axes()\n",
    "    psf.plot(ax=ax, cmap=\"viridis\", add_cbar=True, stretch=\"log\")\n",
    "    ax.set_title(f\"{name}\")"
   ]
  },
  {
   "cell_type": "code",
   "execution_count": null,
   "id": "835d6175",
   "metadata": {},
   "outputs": [],
   "source": [
    "def to_jolideco_dataset(maps, dtype=np.float32):\n",
    "    \"\"\"Convert Gammapy maps to Jolideco dataset.\"\"\"\n",
    "    return {\n",
    "        \"counts\": maps[\"counts\"].data[0].astype(dtype),\n",
    "        \"background\": maps[\"background\"].data[0].astype(dtype),\n",
    "        \"psf\": {\"vela-junior\": maps[\"psf\"].data[0].astype(dtype)},\n",
    "        \"exposure\": maps[\"exposure\"].data[0].astype(dtype),\n",
    "    }"
   ]
  },
  {
   "cell_type": "code",
   "execution_count": null,
   "id": "cbc2a6d3",
   "metadata": {},
   "outputs": [],
   "source": [
    "datasets_jolideco = {name: to_jolideco_dataset(maps) for name, maps in datasets.items()}"
   ]
  },
  {
   "cell_type": "markdown",
   "id": "80aa55ef",
   "metadata": {},
   "source": [
    "## Run Jolideco"
   ]
  },
  {
   "cell_type": "code",
   "execution_count": null,
   "id": "727e9a30",
   "metadata": {},
   "outputs": [],
   "source": [
    "gmm = GaussianMixtureModel.from_registry(\"chandra-snrs-v0.1\")\n",
    "gmm.stride = 4\n",
    "print(gmm)"
   ]
  },
  {
   "cell_type": "code",
   "execution_count": null,
   "id": "94fda164",
   "metadata": {},
   "outputs": [],
   "source": [
    "gmm.plot_mean_images(ncols=16, figsize=(12, 8))"
   ]
  },
  {
   "cell_type": "code",
   "execution_count": null,
   "id": "b75aef1a",
   "metadata": {},
   "outputs": [],
   "source": [
    "patch_prior = GMMPatchPrior(\n",
    "    gmm=gmm,\n",
    "    cycle_spin=True,\n",
    "    stride=4,\n",
    "    norm=IdentityImageNorm()\n",
    ")\n",
    "\n",
    "\n",
    "shape = datasets_jolideco[\"vela-junior-above-10GeV-data-psf1\"][\"counts\"].shape\n",
    "flux_init = np.random.normal(loc=0.1, scale=0.01, size=shape).astype(np.float32)\n",
    "\n",
    "component = SpatialFluxComponent.from_numpy(\n",
    "    flux=flux_init,\n",
    "    prior=patch_prior,\n",
    "    use_log_flux=True,\n",
    "    upsampling_factor=1,\n",
    ")\n",
    "\n",
    "\n",
    "components = FluxComponents()\n",
    "components[\"vela-junior\"] = component\n",
    "\n",
    "print(components)"
   ]
  },
  {
   "cell_type": "code",
   "execution_count": null,
   "id": "f4434945",
   "metadata": {},
   "outputs": [],
   "source": [
    "calibrations = NPredCalibrations()\n",
    "\n",
    "for name, value in zip(datasets, [0.5, 1.2, 1.2, 1.2]):\n",
    "    calibration = NPredCalibration(background_norm=value, frozen=False)\n",
    "    calibrations[name] = calibration\n",
    "\n",
    "print(calibrations)"
   ]
  },
  {
   "cell_type": "code",
   "execution_count": null,
   "id": "023bf20d",
   "metadata": {},
   "outputs": [],
   "source": [
    "deconvolve = MAPDeconvolver(n_epochs=500, learning_rate=0.1)\n",
    "print(deconvolve)"
   ]
  },
  {
   "cell_type": "code",
   "execution_count": null,
   "id": "d45d1d03",
   "metadata": {},
   "outputs": [],
   "source": [
    "#datasets_jolideco.pop(\"vela-junior-above-10GeV-data-psf0\")"
   ]
  },
  {
   "cell_type": "code",
   "execution_count": null,
   "id": "71e75343",
   "metadata": {},
   "outputs": [],
   "source": [
    "result = deconvolve.run(\n",
    "    datasets=datasets_jolideco,\n",
    "    components=components,\n",
    "    calibrations=calibrations\n",
    ")"
   ]
  },
  {
   "cell_type": "code",
   "execution_count": null,
   "id": "a3ebda10",
   "metadata": {},
   "outputs": [],
   "source": [
    "plt.figure(figsize=(12, 8))\n",
    "result.plot_trace_loss()"
   ]
  },
  {
   "attachments": {},
   "cell_type": "markdown",
   "id": "7deb480d",
   "metadata": {},
   "source": [
    "## Results"
   ]
  },
  {
   "cell_type": "code",
   "execution_count": null,
   "id": "7f0e4523",
   "metadata": {},
   "outputs": [],
   "source": [
    "counts = np.sum([_[\"counts\"] for _ in datasets_jolideco.values()], axis=0)\n",
    "\n",
    "fig, axes = plt.subplots(\n",
    "    ncols=2,\n",
    "    subplot_kw={\"projection\": wcs},\n",
    "    figsize=(14, 6)\n",
    ")\n",
    "\n",
    "norm_asinh = simple_norm(\n",
    "    counts,\n",
    "    min_cut=0.1,\n",
    "    max_cut=0.5,\n",
    "    stretch=\"power\",\n",
    "    power=1.,\n",
    ")\n",
    "\n",
    "\n",
    "norm = simple_norm(\n",
    "    counts,\n",
    "    min_cut=0.02,\n",
    "    max_cut=0.3,\n",
    "    stretch=\"power\",\n",
    "    power=3\n",
    ")\n",
    "\n",
    "im = axes[0].imshow(counts, origin=\"lower\", interpolation=\"None\")\n",
    "axes[0].set_title(\"Counts\")\n",
    "plt.colorbar(im);\n",
    "\n",
    "im = axes[1].imshow(result.components.flux_total_numpy, origin=\"lower\", norm=norm_asinh, interpolation=\"bicubic\")\n",
    "axes[1].set_title(\"Deconvolved\");\n",
    "plt.colorbar(im);\n"
   ]
  },
  {
   "cell_type": "code",
   "execution_count": null,
   "id": "8b92a26c",
   "metadata": {},
   "outputs": [],
   "source": [
    "print(calibrations)"
   ]
  },
  {
   "cell_type": "code",
   "execution_count": null,
   "id": "c017b898",
   "metadata": {},
   "outputs": [],
   "source": [
    "# could visually compare aginst https://arxiv.org/abs/2303.12686\n",
    "geom = datasets[\"vela-junior-above-10GeV-data-psf0\"][\"counts\"].geom.to_image()\n",
    "flux = Map.from_geom(geom, data=component.flux_numpy)\n",
    "\n",
    "geom_icrc = WcsGeom.create(\n",
    "    skydir=geom.center_skydir,\n",
    "    width=3 * u.deg,\n",
    "    binsz=0.02\n",
    ")\n",
    "\n",
    "flux_icrs = flux.interp_to_geom(geom_icrc)\n",
    "\n",
    "norm_pwr = simple_norm(\n",
    "    flux.data,\n",
    "    min_cut=0,\n",
    "    max_cut=0.6,\n",
    "    stretch=\"power\",\n",
    "    power=1.3,\n",
    ")\n",
    "flux_icrs.plot(cmap=\"cubehelix\", norm=norm_pwr)"
   ]
  },
  {
   "cell_type": "code",
   "execution_count": null,
   "id": "087c0753",
   "metadata": {},
   "outputs": [],
   "source": [
    "result.write(filename_jolideco_result, overwrite=True)"
   ]
  },
  {
   "attachments": {},
   "cell_type": "markdown",
   "id": "a104aa54",
   "metadata": {},
   "source": [
    "## Residuals"
   ]
  },
  {
   "cell_type": "code",
   "execution_count": null,
   "id": "6d40e6eb",
   "metadata": {},
   "outputs": [],
   "source": [
    "npreds = {}\n",
    "\n",
    "for name, dataset in datasets_jolideco.items():\n",
    "    model = NPredModels.from_dataset_numpy(\n",
    "        dataset=dataset,\n",
    "        components=result.components,\n",
    "    )\n",
    "    \n",
    "    fluxes = result.components.to_flux_tuple()\n",
    "    npred = model.evaluate(fluxes=fluxes).detach().numpy()[0, 0]\n",
    "    npreds[name] =  Map.from_geom(data=npred, geom=geom)\n",
    "    \n",
    "\n",
    "npreds_calibrated = {}\n",
    "\n",
    "for name, dataset in datasets_jolideco.items():\n",
    "    model = NPredModels.from_dataset_numpy(\n",
    "        dataset=dataset,\n",
    "        components=result.components,\n",
    "        calibration=calibrations[name]\n",
    "    )\n",
    "    \n",
    "    fluxes = result.components.to_flux_tuple()\n",
    "    npred = model.evaluate(fluxes=fluxes).detach().numpy()[0, 0]\n",
    "    npreds_calibrated[name] = Map.from_geom(data=npred, geom=geom)\n",
    "    "
   ]
  },
  {
   "cell_type": "code",
   "execution_count": null,
   "id": "214a7cea",
   "metadata": {},
   "outputs": [],
   "source": [
    "fig, axes = plt.subplots(\n",
    "    ncols=2,\n",
    "    nrows=2,\n",
    "    subplot_kw={\"projection\": wcs},\n",
    "    gridspec_kw={\"wspace\": 0.2},\n",
    "    figsize=(12, 12)\n",
    ")\n",
    "\n",
    "\n",
    "for name, ax in zip_longest(datasets_jolideco, axes.flat):\n",
    "    if name is None:\n",
    "        ax.set_visible(False)\n",
    "        continue\n",
    "        \n",
    "    dataset = datasets[name]\n",
    "    counts = dataset[\"counts\"].sum_over_axes(keepdims=False).smooth(5)\n",
    "    npred = npreds[name].smooth(5)\n",
    "    \n",
    "    residual = (counts - npred) / np.sqrt(npred)\n",
    "    \n",
    "    residual.plot(ax=ax, vmin=-0.5, vmax=0.5, cmap=\"RdBu\", add_cbar=True)\n",
    "    ax.set_title(f\"{name}\")"
   ]
  },
  {
   "cell_type": "code",
   "execution_count": null,
   "id": "c56ec67c",
   "metadata": {},
   "outputs": [],
   "source": [
    "fig, axes = plt.subplots(\n",
    "    ncols=2,\n",
    "    nrows=2,\n",
    "    subplot_kw={\"projection\": wcs},\n",
    "    gridspec_kw={\"wspace\": 0.2},\n",
    "    figsize=(12, 12)\n",
    ")\n",
    "\n",
    "\n",
    "for name, ax in zip_longest(datasets_jolideco, axes.flat):\n",
    "    if name is None:\n",
    "        ax.set_visible(False)\n",
    "        continue\n",
    "        \n",
    "    dataset = datasets[name]\n",
    "    counts = dataset[\"counts\"].sum_over_axes(keepdims=False).smooth(5)\n",
    "    npred = npreds_calibrated[name].smooth(5)\n",
    "    \n",
    "    residual = (counts - npred) / np.sqrt(npred)\n",
    "    \n",
    "    residual.plot(ax=ax, vmin=-0.5, vmax=0.5, cmap=\"RdBu\", add_cbar=True)\n",
    "    ax.set_title(f\"{name}\")"
   ]
  },
  {
   "cell_type": "code",
   "execution_count": null,
   "id": "a2e183a6",
   "metadata": {},
   "outputs": [],
   "source": []
  }
 ],
 "metadata": {
  "kernelspec": {
   "display_name": "Python 3 (ipykernel)",
   "language": "python",
   "name": "python3"
  },
  "language_info": {
   "codemirror_mode": {
    "name": "ipython",
    "version": 3
   },
   "file_extension": ".py",
   "mimetype": "text/x-python",
   "name": "python",
   "nbconvert_exporter": "python",
   "pygments_lexer": "ipython3",
   "version": "3.9.16"
  },
  "vscode": {
   "interpreter": {
    "hash": "5c7b89af1651d0b8571dde13640ecdccf7d5a6204171d6ab33e7c296e100e08a"
   }
  }
 },
 "nbformat": 4,
 "nbformat_minor": 5
}
