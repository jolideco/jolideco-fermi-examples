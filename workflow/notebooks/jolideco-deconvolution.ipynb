{
 "cells": [
  {
   "cell_type": "markdown",
   "id": "e8bacaaf",
   "metadata": {},
   "source": [
    "# Jolideco Analysis of Fermi-LAT data of Vela Junior "
   ]
  },
  {
   "cell_type": "code",
   "execution_count": null,
   "id": "0f81b802",
   "metadata": {},
   "outputs": [],
   "source": [
    "import numpy as np\n",
    "from astropy.io import fits\n",
    "from astropy.coordinates import SkyCoord\n",
    "from pathlib import Path\n",
    "from matplotlib import pyplot as plt\n",
    "from astropy.visualization import simple_norm\n",
    "from astropy.wcs import WCS\n",
    "from astropy import units as u\n",
    "from jolideco.core import MAPDeconvolver\n",
    "from jolideco.models import (\n",
    "    SpatialFluxComponent,\n",
    "    FluxComponents,\n",
    "    SparseSpatialFluxComponent,\n",
    "    NPredModel,\n",
    "    NPredModels,\n",
    "    NPredCalibration,\n",
    "    NPredCalibrations\n",
    ")\n",
    "from jolideco.priors import GMMPatchPrior, GaussianMixtureModel, UniformPrior\n",
    "from jolideco.utils.norms import FixedMaxImageNorm, ASinhImageNorm\n",
    "from scipy.ndimage import gaussian_filter\n",
    "from itertools import zip_longest\n",
    "from gammapy.maps import Map, RegionGeom\n",
    "from gammapy.datasets import Datasets\n",
    "from gammapy.modeling.models import Models, SkyModel\n",
    "from gammapy.modeling import Fit\n",
    "from gammapy.estimators import TSMapEstimator\n",
    "import torch\n",
    "from gammapy.catalog import SourceCatalog3FHL\n",
    "from regions import CircleSkyRegion"
   ]
  },
  {
   "cell_type": "code",
   "execution_count": null,
   "id": "c6ea4425",
   "metadata": {},
   "outputs": [],
   "source": [
    "fermi_3fhl = SourceCatalog3FHL()"
   ]
  },
  {
   "cell_type": "code",
   "execution_count": null,
   "id": "a0e1e04b",
   "metadata": {},
   "outputs": [],
   "source": [
    "vela_junior_3fhl = fermi_3fhl[\"RX J0852.0-4622\"]"
   ]
  },
  {
   "cell_type": "code",
   "execution_count": null,
   "id": "5b53a56c",
   "metadata": {},
   "outputs": [],
   "source": [
    "PATH_BASE = Path(\"../../results/vela-junior-above-10GeV-data/\")"
   ]
  },
  {
   "cell_type": "code",
   "execution_count": null,
   "id": "56913f11",
   "metadata": {},
   "outputs": [],
   "source": [
    "datasets_input = Datasets.read(PATH_BASE / \"datasets/vela-junior-above-10GeV-data-datasets-all.yaml\")"
   ]
  },
  {
   "cell_type": "code",
   "execution_count": null,
   "id": "9afb98e9",
   "metadata": {},
   "outputs": [],
   "source": [
    "datasets = Datasets()\n",
    "\n",
    "for dataset in datasets_input:\n",
    "    dataset.psf.psf_map.data = dataset.psf.psf_map.data.astype(float)\n",
    "    dataset.mask_safe = None\n",
    "    datasets.append(dataset)"
   ]
  },
  {
   "cell_type": "code",
   "execution_count": null,
   "id": "6dc24a1c",
   "metadata": {},
   "outputs": [],
   "source": [
    "models = Models.read(PATH_BASE / \"model/vela-junior-above-10GeV-data-model.yaml\")\n",
    "models = models[\"diffuse-iem\"]"
   ]
  },
  {
   "cell_type": "code",
   "execution_count": null,
   "id": "ec39cede",
   "metadata": {},
   "outputs": [],
   "source": [
    "datasets.models = models"
   ]
  },
  {
   "cell_type": "code",
   "execution_count": null,
   "id": "b9574724",
   "metadata": {},
   "outputs": [],
   "source": [
    "print(datasets)"
   ]
  },
  {
   "cell_type": "markdown",
   "id": "dde39bf5",
   "metadata": {},
   "source": [
    "## Counts"
   ]
  },
  {
   "cell_type": "code",
   "execution_count": null,
   "id": "8664dd15",
   "metadata": {},
   "outputs": [],
   "source": [
    "wcs = datasets[0].counts.geom.wcs\n",
    "\n",
    "fig, axes = plt.subplots(\n",
    "    ncols=2,\n",
    "    nrows=2,\n",
    "    subplot_kw={\"projection\": wcs},\n",
    "    figsize=(12, 12)\n",
    ")\n",
    "\n",
    "for ax, dataset in zip(axes.flat, datasets):\n",
    "    counts = dataset.counts.sum_over_axes()\n",
    "    counts.plot(ax=ax, cmap=\"viridis\", add_cbar=True)\n",
    "    ax.set_title(f\"{dataset.name}\")"
   ]
  },
  {
   "cell_type": "markdown",
   "id": "26f46afb",
   "metadata": {},
   "source": [
    "## Background"
   ]
  },
  {
   "cell_type": "code",
   "execution_count": null,
   "id": "0c9d3975",
   "metadata": {},
   "outputs": [],
   "source": [
    "wcs = datasets[0].counts.geom.wcs\n",
    "\n",
    "fig, axes = plt.subplots(\n",
    "    ncols=2,\n",
    "    nrows=2,\n",
    "    subplot_kw={\"projection\": wcs},\n",
    "    figsize=(12, 12)\n",
    ")\n",
    "\n",
    "for ax, dataset in zip(axes.flat, datasets):\n",
    "    npred = dataset.npred().sum_over_axes()\n",
    "    npred.plot(ax=ax, stretch=\"linear\", cmap=\"viridis\", add_cbar=True)\n",
    "    ax.set_title(f\"{dataset.name}\")"
   ]
  },
  {
   "cell_type": "markdown",
   "id": "3db3b196",
   "metadata": {},
   "source": [
    "## PSF"
   ]
  },
  {
   "cell_type": "code",
   "execution_count": null,
   "id": "0bd29f06",
   "metadata": {},
   "outputs": [],
   "source": [
    "ax = plt.subplot()\n",
    "\n",
    "energy_true = np.geomspace(5 * u.GeV, 2000 * u.GeV, 100)\n",
    "\n",
    "for dataset in datasets:\n",
    "    radius = dataset.psf.containment_radius(\n",
    "        position=vela_junior_3fhl.position, energy_true=energy_true, fraction=0.68\n",
    "    )\n",
    "    ax.plot(energy_true, radius, label=dataset.name)\n",
    "\n",
    "ax.set_xlabel(\"Energy / GeV\")\n",
    "ax.set_ylabel(\"PSF 68% containment radius / deg\")\n",
    "plt.semilogx()\n",
    "plt.legend();"
   ]
  },
  {
   "cell_type": "markdown",
   "id": "8e5588da",
   "metadata": {},
   "source": [
    "# Fit Background Level"
   ]
  },
  {
   "cell_type": "code",
   "execution_count": null,
   "id": "224b2bf0",
   "metadata": {},
   "outputs": [],
   "source": [
    "exclusion_region = CircleSkyRegion(\n",
    "    center=vela_junior_3fhl.position,\n",
    "    radius=1. * u.deg\n",
    ")"
   ]
  },
  {
   "cell_type": "code",
   "execution_count": null,
   "id": "52528d04",
   "metadata": {},
   "outputs": [],
   "source": [
    "mask = ~dataset.counts.geom.region_mask(exclusion_region)"
   ]
  },
  {
   "cell_type": "code",
   "execution_count": null,
   "id": "175c76d5",
   "metadata": {},
   "outputs": [],
   "source": [
    "for d in datasets:\n",
    "    d.mask_fit = mask"
   ]
  },
  {
   "cell_type": "code",
   "execution_count": null,
   "id": "d5812f36",
   "metadata": {},
   "outputs": [],
   "source": [
    "fit = Fit()"
   ]
  },
  {
   "cell_type": "code",
   "execution_count": null,
   "id": "f6e27523",
   "metadata": {},
   "outputs": [],
   "source": [
    "%%time\n",
    "fit.run(datasets)"
   ]
  },
  {
   "cell_type": "code",
   "execution_count": null,
   "id": "126d5b67",
   "metadata": {},
   "outputs": [],
   "source": [
    "background_norm = datasets.models[\"diffuse-iem\"].spectral_model.norm.value\n",
    "print(f\"Bkg. norm: {background_norm}\")"
   ]
  },
  {
   "cell_type": "markdown",
   "id": "b0161ace",
   "metadata": {},
   "source": [
    "## Input Datasets"
   ]
  },
  {
   "cell_type": "code",
   "execution_count": null,
   "id": "2f6f874c",
   "metadata": {},
   "outputs": [],
   "source": [
    "model = SkyModel.create(\"pl\", \"point\")\n",
    "model.spectral_model.amplitude.quantity = \"1e-14 cm-2 s-1 TeV-1\"\n",
    "model.spectral_model.index.value = 1.7655\n",
    "\n",
    "print(model)"
   ]
  },
  {
   "cell_type": "code",
   "execution_count": null,
   "id": "64dee61d",
   "metadata": {},
   "outputs": [],
   "source": [
    "est = TSMapEstimator(model=model, sum_over_energy_groups=True)"
   ]
  },
  {
   "cell_type": "code",
   "execution_count": null,
   "id": "d88f59e7",
   "metadata": {},
   "outputs": [],
   "source": [
    "datasets_jolideco = {}\n",
    "\n",
    "position = SkyCoord.from_name(\"Vela Junior\")\n",
    "\n",
    "for dataset in datasets:\n",
    "    dataset.mask_fit = None\n",
    "    dataset = dataset.to_image(name=dataset.name)\n",
    "    dataset.models = models\n",
    "\n",
    "    maps = est.estimate_fit_input_maps(dataset=dataset)\n",
    "    \n",
    "    cutout_kwargs = {\"position\": position, \"width\": 3. * u.deg}\n",
    "    \n",
    "    datasets_jolideco[dataset.name] = {\n",
    "        \"counts\": maps[\"counts\"].cutout(**cutout_kwargs).data[0],\n",
    "        \"exposure\": maps[\"exposure\"].cutout(**cutout_kwargs).data[0],\n",
    "        \"psf\": {\"vela-junior\": maps[\"kernel\"].cutout(**cutout_kwargs).data[0]},\n",
    "        \"background\":  maps[\"background\"].cutout(**cutout_kwargs).data[0],\n",
    "    }"
   ]
  },
  {
   "cell_type": "code",
   "execution_count": null,
   "id": "977da86f",
   "metadata": {},
   "outputs": [],
   "source": [
    "print(dataset.models)"
   ]
  },
  {
   "cell_type": "markdown",
   "id": "80aa55ef",
   "metadata": {},
   "source": [
    "## Run Jolideco"
   ]
  },
  {
   "cell_type": "code",
   "execution_count": null,
   "id": "258ce1cd",
   "metadata": {},
   "outputs": [],
   "source": [
    "max_value = 1\n",
    "norm = ASinhImageNorm(alpha=0.02, beta=max_value)\n",
    "max_norm = FixedMaxImageNorm(max_value=max_value)\n",
    "\n",
    "norm.plot(xrange=(0, max_value))\n",
    "max_norm.plot(xrange=(0, max_value))"
   ]
  },
  {
   "cell_type": "code",
   "execution_count": null,
   "id": "727e9a30",
   "metadata": {},
   "outputs": [],
   "source": [
    "gmm = GaussianMixtureModel.from_registry(\"gleam-v0.2\")\n",
    "gmm.stride = 4\n",
    "print(gmm)"
   ]
  },
  {
   "cell_type": "code",
   "execution_count": null,
   "id": "b75aef1a",
   "metadata": {},
   "outputs": [],
   "source": [
    "patch_prior = GMMPatchPrior(\n",
    "    gmm=gmm,\n",
    "    jitter=False,\n",
    "    cycle_spin=True,\n",
    "    norm=max_norm,\n",
    "    stride=2,\n",
    ")\n",
    "\n",
    "flux_init = 0.1 * np.ones(datasets_jolideco[\"vela-junior-above-10GeV-data-psf0\"][\"counts\"].shape).astype(np.float32)\n",
    "\n",
    "component = SpatialFluxComponent.from_numpy(\n",
    "    flux=flux_init,\n",
    "    prior=patch_prior,\n",
    "    use_log_flux=True,\n",
    "    upsampling_factor=2,\n",
    ")\n",
    "\n",
    "components = FluxComponents()\n",
    "components[\"vela-junior\"] = component\n",
    "\n",
    "print(components)"
   ]
  },
  {
   "cell_type": "code",
   "execution_count": null,
   "id": "f4434945",
   "metadata": {},
   "outputs": [],
   "source": [
    "calibrations = NPredCalibrations()\n",
    "\n",
    "for name in datasets.names:\n",
    "    calibration = NPredCalibration(background_norm=background_norm, frozen=True)\n",
    "    calibration.shift_xy.requires_grad = False\n",
    "    calibrations[name] = calibration\n",
    "\n",
    "print(calibrations)"
   ]
  },
  {
   "cell_type": "code",
   "execution_count": null,
   "id": "023bf20d",
   "metadata": {},
   "outputs": [],
   "source": [
    "deconvolve = MAPDeconvolver(n_epochs=500, beta=0.2)\n",
    "print(deconvolve)"
   ]
  },
  {
   "cell_type": "code",
   "execution_count": null,
   "id": "71e75343",
   "metadata": {},
   "outputs": [],
   "source": [
    "result = deconvolve.run(\n",
    "    datasets=datasets_jolideco,\n",
    "    components=components,\n",
    "    calibrations=calibrations\n",
    ")"
   ]
  },
  {
   "cell_type": "code",
   "execution_count": null,
   "id": "874b0fdd",
   "metadata": {},
   "outputs": [],
   "source": [
    "result.plot_trace_loss()"
   ]
  },
  {
   "cell_type": "code",
   "execution_count": null,
   "id": "7f0e4523",
   "metadata": {},
   "outputs": [],
   "source": [
    "counts = np.sum([_[\"counts\"] for _ in datasets_jolideco.values()], axis=0)\n",
    "\n",
    "fig, axes = plt.subplots(\n",
    "    ncols=2,\n",
    "    subplot_kw={\"projection\": wcs},\n",
    "    figsize=(14, 6)\n",
    ")\n",
    "\n",
    "norm_asinh = simple_norm(\n",
    "    counts,\n",
    "    min_cut=0,\n",
    "    max_cut=10,\n",
    "    stretch=\"asinh\",\n",
    "    asinh_a=0.01\n",
    ")\n",
    "\n",
    "axes[0].imshow(gaussian_filter(counts, 3), origin=\"lower\")\n",
    "axes[0].set_title(\"Counts\")\n",
    "\n",
    "im = axes[1].imshow(result.components.flux_total_numpy, origin=\"lower\", norm=norm_asinh, interpolation=\"bicubic\")\n",
    "axes[1].set_title(\"Deconvolved\");\n",
    "plt.colorbar(im);"
   ]
  },
  {
   "cell_type": "code",
   "execution_count": null,
   "id": "8fabe1e8",
   "metadata": {},
   "outputs": [],
   "source": [
    "plt.imshow(np.sqrt(datasets_jolideco[\"vela-junior-above-10GeV-data-psf0\"][\"psf\"][\"vela-junior\"]))"
   ]
  },
  {
   "cell_type": "code",
   "execution_count": null,
   "id": "cb19058c",
   "metadata": {},
   "outputs": [],
   "source": [
    "print(calibrations)"
   ]
  },
  {
   "cell_type": "code",
   "execution_count": null,
   "id": "087c0753",
   "metadata": {},
   "outputs": [],
   "source": [
    "result.write(\"fermi-lat-vela-junior.fits\", overwrite=True)"
   ]
  },
  {
   "cell_type": "code",
   "execution_count": null,
   "id": "6d40e6eb",
   "metadata": {},
   "outputs": [],
   "source": [
    "npreds = {}\n",
    "\n",
    "for name, dataset in datasets_jolideco.items():\n",
    "    model = NPredModels.from_dataset_numpy(\n",
    "        dataset=dataset,\n",
    "        components=result.components,\n",
    "    )\n",
    "    \n",
    "    fluxes = result.components.to_flux_tuple()\n",
    "    npred = model.evaluate(fluxes=fluxes).detach().numpy()[0, 0]\n",
    "    npreds[name] = npred\n",
    "    \n",
    "\n",
    "npreds_calibrated = {}\n",
    "\n",
    "for name, dataset in datasets_jolideco.items():\n",
    "    model = NPredModels.from_dataset_numpy(\n",
    "        dataset=dataset,\n",
    "        components=result.components,\n",
    "        calibration=calibrations[name]\n",
    "    )\n",
    "    \n",
    "    fluxes = result.components.to_flux_tuple()\n",
    "    npred = model.evaluate(fluxes=fluxes).detach().numpy()[0, 0]\n",
    "    npreds_calibrated[name] = npred\n",
    "    "
   ]
  },
  {
   "cell_type": "code",
   "execution_count": null,
   "id": "214a7cea",
   "metadata": {},
   "outputs": [],
   "source": [
    "fig, axes = plt.subplots(\n",
    "    ncols=2,\n",
    "    nrows=2,\n",
    "    subplot_kw={\"projection\": wcs},\n",
    "    gridspec_kw={\"wspace\": 0.2},\n",
    "    figsize=(12, 12)\n",
    ")\n",
    "\n",
    "\n",
    "for name, ax in zip_longest(datasets_jolideco, axes.flat):\n",
    "    if name is None:\n",
    "        ax.set_visible(False)\n",
    "        continue\n",
    "        \n",
    "    dataset = datasets_jolideco[name]\n",
    "    \n",
    "    residual = (dataset[\"counts\"] - npreds[name]) / np.sqrt(npreds[name])\n",
    "    smoothed = gaussian_filter(residual, 5)\n",
    "    \n",
    "    im = ax.imshow(smoothed, vmin=-0.5, vmax=0.5, cmap=\"RdBu\")\n",
    "    ax.set_title(f\"Obs-ID {name}\")\n",
    "    plt.colorbar(im, ax=ax)"
   ]
  },
  {
   "cell_type": "code",
   "execution_count": null,
   "id": "c56ec67c",
   "metadata": {},
   "outputs": [],
   "source": [
    "fig, axes = plt.subplots(\n",
    "    ncols=2,\n",
    "    nrows=2,\n",
    "    subplot_kw={\"projection\": wcs},\n",
    "    gridspec_kw={\"wspace\": 0.2},\n",
    "    figsize=(12, 12)\n",
    ")\n",
    "\n",
    "\n",
    "for name, ax in zip_longest(datasets_jolideco, axes.flat):\n",
    "    if name is None:\n",
    "        ax.set_visible(False)\n",
    "        continue\n",
    "        \n",
    "    dataset = datasets_jolideco[name]\n",
    "    \n",
    "    residual = (dataset[\"counts\"] - npreds_calibrated[name]) / np.sqrt(npreds_calibrated[name])\n",
    "    smoothed = gaussian_filter(residual, 5)\n",
    "    \n",
    "    im = ax.imshow(smoothed, vmin=-0.5, vmax=0.5, cmap=\"RdBu\")\n",
    "    ax.set_title(f\"Obs-ID {name}\")\n",
    "    plt.colorbar(im, ax=ax)"
   ]
  },
  {
   "cell_type": "code",
   "execution_count": null,
   "id": "e5e3187d",
   "metadata": {},
   "outputs": [],
   "source": [
    "print(calibrations)"
   ]
  },
  {
   "cell_type": "code",
   "execution_count": null,
   "id": "743fae48",
   "metadata": {},
   "outputs": [],
   "source": []
  }
 ],
 "metadata": {
  "kernelspec": {
   "display_name": "Python 3 (ipykernel)",
   "language": "python",
   "name": "python3"
  },
  "language_info": {
   "codemirror_mode": {
    "name": "ipython",
    "version": 3
   },
   "file_extension": ".py",
   "mimetype": "text/x-python",
   "name": "python",
   "nbconvert_exporter": "python",
   "pygments_lexer": "ipython3",
   "version": "3.9.16"
  }
 },
 "nbformat": 4,
 "nbformat_minor": 5
}
